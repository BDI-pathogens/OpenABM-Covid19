{
 "cells": [
  {
   "cell_type": "code",
   "execution_count": 1,
   "metadata": {},
   "outputs": [
    {
     "name": "stdout",
     "output_type": "stream",
     "text": [
      "Collecting numpy\n",
      "  Downloading numpy-1.18.2-cp37-cp37m-macosx_10_9_x86_64.whl (15.1 MB)\n",
      "\u001b[K     |████████████████████████████████| 15.1 MB 6.0 MB/s eta 0:00:01\n",
      "\u001b[?25hInstalling collected packages: numpy\n",
      "Successfully installed numpy-1.18.2\n",
      "Note: you may need to restart the kernel to use updated packages.\n"
     ]
    }
   ],
   "source": [
    "pip install numpy"
   ]
  },
  {
   "cell_type": "code",
   "execution_count": 2,
   "metadata": {},
   "outputs": [],
   "source": [
    "import itertools"
   ]
  },
  {
   "cell_type": "code",
   "execution_count": 5,
   "metadata": {},
   "outputs": [
    {
     "name": "stdout",
     "output_type": "stream",
     "text": [
      "[2.8284271247461903, 5.656854249492381, 8.48528137423857, 11.313708498984761, 14.142135623730951, 2.8284271247461903, 5.656854249492381, 8.48528137423857, 11.313708498984761, 2.8284271247461903, 5.656854249492381, 8.48528137423857, 2.8284271247461903, 5.656854249492381, 2.8284271247461903]\n",
      "\n"
     ]
    }
   ],
   "source": [
    "from math import hypot\n",
    "\n",
    "def distance(p1,p2):\n",
    "    \"\"\"Euclidean distance between two points.\"\"\"\n",
    "    x1,y1 = p1\n",
    "    x2,y2 = p2\n",
    "    return hypot(x2 - x1, y2 - y1)\n",
    "\n",
    "from itertools import combinations\n",
    "\n",
    "list_of_coords = [(1,2), (3,4), (5,6), (7,8), (9,10), (11,12)]\n",
    "\n",
    "print([distance(*combo) for combo in combinations(list_of_coords,2)])"
   ]
  },
  {
   "cell_type": "code",
   "execution_count": 9,
   "metadata": {},
   "outputs": [
    {
     "data": {
      "text/plain": [
       "list"
      ]
     },
     "execution_count": 9,
     "metadata": {},
     "output_type": "execute_result"
    }
   ],
   "source": [
    "type([combo for combo in combinations(list_of_coords,2)])"
   ]
  },
  {
   "cell_type": "code",
   "execution_count": null,
   "metadata": {},
   "outputs": [],
   "source": [
    "# Distance calculator\n",
    "def calcDistance(cell1x, cell1y, cell2x, cell2y):\n",
    "\treturn math.sqrt(math.pow(cell1x - cell2x, 2) + math.pow(cell1y - cell2y, 2))\n",
    "\n",
    "list_of_coords = [(1,2), (3,4), (5,6), (7,8), (9,10), (11,12)]\n"
   ]
  },
  {
   "cell_type": "code",
   "execution_count": 8,
   "metadata": {},
   "outputs": [
    {
     "data": {
      "text/plain": [
       "list"
      ]
     },
     "execution_count": 8,
     "metadata": {},
     "output_type": "execute_result"
    }
   ],
   "source": [
    "type(list_of_coords)"
   ]
  },
  {
   "cell_type": "code",
   "execution_count": null,
   "metadata": {},
   "outputs": [],
   "source": []
  }
 ],
 "metadata": {
  "kernelspec": {
   "display_name": "Python 3",
   "language": "python",
   "name": "python3"
  },
  "language_info": {
   "codemirror_mode": {
    "name": "ipython",
    "version": 3
   },
   "file_extension": ".py",
   "mimetype": "text/x-python",
   "name": "python",
   "nbconvert_exporter": "python",
   "pygments_lexer": "ipython3",
   "version": "3.7.7"
  }
 },
 "nbformat": 4,
 "nbformat_minor": 4
}
