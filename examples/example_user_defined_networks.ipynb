{
 "cells": [
  {
   "cell_type": "markdown",
   "metadata": {},
   "source": [
    "# OpenABM - User Defined Networks and Demographics\n",
    "\n",
    "OpenABM comes with a built in demographics model and network models. However, there is an option to generating these outside of the main simualtion and then to run the ABM on them."
   ]
  },
  {
   "cell_type": "markdown",
   "metadata": {},
   "source": [
    "## Networks\n",
    "User defined networks can added by added using the command `model.add_user_network(df_network)` at any time step. They persist and form additional networks to those already in the model. `df_network` is a pandas dataframe with 2 columns `ID_1` and `ID_2` with each row representing an edge on the network. `model.add_user_network()` has the named arguments:\n",
    " \n",
    "1. `interaction_type` - the type of interaction (0=household; 1=occupation; 2=random) which determines transmission multipliers (default: `0`)\n",
    "2. `skip_hospitalised` - whether to skip this interaction of either person is in hospital (default: `True`)\n",
    "3. `skip_quarantine` - whether to skip this interaction of either person is in quarantine (default: `True`)\n",
    "4. `daily_fraction` - fraction of the edges randomly sampled each day (default: `1.0`)\n",
    "5. `name` - a name associated with the network (default: `\"user_network\"` )\n",
    "\n",
    "In the example below we add the ultimate super-spreader who is contact with everybody on the network.\n"
   ]
  },
  {
   "cell_type": "code",
   "execution_count": null,
   "metadata": {},
   "outputs": [],
   "source": [
    "# get a basic model\n",
    "import example_utils as utils\n",
    "import pandas as pd\n",
    "import numpy as np  \n",
    "\n",
    "n_total = 10000\n",
    "params  = utils.get_baseline_parameters()\n",
    "params.set_param( \"n_total\", n_total )\n",
    "model = utils.get_simulation( params ).env.model\n",
    "\n",
    "# now generate a network where everyone is connect to person 0\n",
    "node_1 = np.array([0]*(n_total-1),  dtype='int32')\n",
    "node_2 = np.array(range(1,n_total), dtype='int32')\n",
    "network = pd.DataFrame({'ID_1': node_1, 'ID_2':node_2})\n",
    "model.add_user_network( network, name = \"super_spreader_network\")\n",
    "\n",
    "# run the model for 1 time step\n",
    "model.one_time_step()"
   ]
  },
  {
   "cell_type": "markdown",
   "metadata": {},
   "source": [
    "First check that that the super-spreader has formed interactions with everybody."
   ]
  },
  {
   "cell_type": "code",
   "execution_count": null,
   "metadata": {},
   "outputs": [],
   "source": [
    "model.write_interactions_file()\n",
    "df_inter = pd.read_csv( \"interactions_Run1.csv\", comment=\"#\", sep=\",\", skipinitialspace=True )\n",
    "n_inter  = df_inter.groupby([\"ID_1\",\"ID_2\"]).size().groupby([\"ID_1\"]).size().reset_index(name = \"n_interactions\")\n",
    "n_inter[n_inter[\"ID_1\"]==0]"
   ]
  },
  {
   "cell_type": "markdown",
   "metadata": {},
   "source": [
    "Now run the simulation for 20 time steps and show that person 0 infects a large number of others."
   ]
  },
  {
   "cell_type": "code",
   "execution_count": null,
   "metadata": {},
   "outputs": [],
   "source": [
    "for time in range(20):\n",
    "    model.one_time_step()\n",
    "model.write_transmissions()\n",
    "df_trans = pd.read_csv( \"transmission_Run1.csv\", comment=\"#\", sep=\",\", skipinitialspace=True )\n",
    "n_trans  = df_trans.groupby([\"ID_source\"]).size().reset_index(name = \"n_infected\")\n",
    "n_trans[n_trans[\"ID_source\"]==0]"
   ]
  },
  {
   "cell_type": "markdown",
   "metadata": {},
   "source": [
    "## Demographics\n",
    "User defined demographics can be added to the parameter object prior to creating them model using the command `params.set_demographic_household_table( df_demo )`, where `df_demo` is a data frame containing the columns:\n",
    "   1. `ID` - the index of the person and must be `0` to `n_total-1`.\n",
    "   2. `house_no` - the house number of the person from `0` to the largest house number. People in the same house must have consecutive `ID`s.\n",
    "   3. `age_group` - the decade age group of the person and is an integer between `0` (0-9 years) and `8` (80+).\n",
    "    "
   ]
  },
  {
   "cell_type": "markdown",
   "metadata": {},
   "source": [
    "In the example below we specify the house numbers and ages for a model with 1000 people (and show just the first 2  households)."
   ]
  },
  {
   "cell_type": "code",
   "execution_count": null,
   "metadata": {},
   "outputs": [],
   "source": [
    "del model;\n",
    "n_total = int(1e3)\n",
    "params  = utils.get_baseline_parameters()\n",
    "params.set_param( \"n_total\", n_total )\n",
    "\n",
    "# make a simple demographic table\n",
    "IDs      = np.array( range(n_total), dtype='int32')\n",
    "house_no = np.array( IDs / 4, dtype='int32' )\n",
    "ages     = np.array( np.mod( IDs, 9) , dtype='int32' )\n",
    "df_demo  = pd.DataFrame({'ID':IDs,'age_group':ages,'house_no':house_no})\n",
    "\n",
    "# add to the parameters and get the model\n",
    "params.set_demographic_household_table( df_demo ),\n",
    "model = utils.get_simulation( params ).env.model\n",
    "\n",
    "df_demo[ df_demo[ \"house_no\"] < 2]"
   ]
  },
  {
   "cell_type": "markdown",
   "metadata": {},
   "source": [
    "Now step forward and check the values being used in the simulation."
   ]
  },
  {
   "cell_type": "code",
   "execution_count": null,
   "metadata": {},
   "outputs": [],
   "source": [
    "model.one_time_step()\n",
    "model.write_individual_file()\n",
    "df_indiv = pd.read_csv( \"individual_file_Run1.csv\", comment=\"#\", sep=\",\", skipinitialspace=True )\n",
    "df_indiv[df_indiv[\"house_no\"]<2].loc[:,[\"ID\",\"age_group\",\"house_no\"]]"
   ]
  },
  {
   "cell_type": "markdown",
   "metadata": {},
   "source": [
    "And the check the interactions on the household network."
   ]
  },
  {
   "cell_type": "code",
   "execution_count": null,
   "metadata": {},
   "outputs": [],
   "source": [
    "model.write_interactions_file()\n",
    "df_inter = pd.read_csv( \"interactions_Run1.csv\", comment=\"#\", sep=\",\", skipinitialspace=True )\n",
    "df_inter[(df_inter[\"type\"]==0)&(df_inter[\"house_no_1\"]<2)&(df_inter[\"ID_1\"]< df_inter[\"ID_2\"])].loc[:,[\"ID_1\",\"ID_2\",\"house_no_1\"]]"
   ]
  },
  {
   "cell_type": "code",
   "execution_count": null,
   "metadata": {},
   "outputs": [],
   "source": [
    "df_inter = df_inter[(df_inter[\"type\"]==0)&(df_inter[\"house_no_1\"]<2)].loc[:,[\"ID_1\",\"ID_2\",\"house_no_1\"]]\n",
    "import networkx as nx\n",
    "G = nx.DiGraph()\n",
    "G.add_nodes_from(list(range(max(df_inter[\"ID_1\"])+1)))\n",
    "for index, row in df_inter.iterrows():\n",
    "    G.add_edge(row[\"ID_1\"],row[\"ID_2\"])\n",
    "nx.draw_shell(G, with_labels=True)"
   ]
  }
 ],
 "metadata": {
  "kernelspec": {
   "display_name": "Python 3",
   "language": "python",
   "name": "python3"
  },
  "language_info": {
   "codemirror_mode": {
    "name": "ipython",
    "version": 3
   },
   "file_extension": ".py",
   "mimetype": "text/x-python",
   "name": "python",
   "nbconvert_exporter": "python",
   "pygments_lexer": "ipython3",
   "version": "3.7.7"
  }
 },
 "nbformat": 4,
 "nbformat_minor": 4
}
