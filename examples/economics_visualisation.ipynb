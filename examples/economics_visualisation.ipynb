{
 "cells": [
  {
   "cell_type": "markdown",
   "metadata": {},
   "source": [
    "# Prelims"
   ]
  },
  {
   "cell_type": "markdown",
   "metadata": {},
   "source": [
    "Before running this notebook, run:\n",
    "```bash\n",
    "mkdir -p ~/dumps\n",
    "cd ~/dumps\n",
    "python -m adapter_covid19.example basic\n",
    "python -m adapter_covid19.example no_lockdown\n",
    "python -m adapter_covid19.example slow_unlock\n",
    "python -m adapter_covid19.example slow_unlock_constrained\n",
    "```\n",
    "\n",
    "Warning: the above takes 10GB of RAM"
   ]
  },
  {
   "cell_type": "code",
   "execution_count": null,
   "metadata": {},
   "outputs": [],
   "source": [
    "%load_ext autoreload\n",
    "%autoreload 2"
   ]
  },
  {
   "cell_type": "code",
   "execution_count": null,
   "metadata": {},
   "outputs": [],
   "source": [
    "import sys\n",
    "import os\n",
    "import pickle\n",
    "import glob"
   ]
  },
  {
   "cell_type": "code",
   "execution_count": null,
   "metadata": {},
   "outputs": [],
   "source": [
    "import matplotlib.pylab as plt\n",
    "import pandas as pd\n",
    "import numpy as np\n",
    "from tqdm import tqdm_notebook as tqdm"
   ]
  },
  {
   "cell_type": "code",
   "execution_count": null,
   "metadata": {},
   "outputs": [],
   "source": [
    "# SET THESE!\n",
    "data_path = '~/dumps'\n",
    "start_date = pd.to_datetime(\"2020-03-13\") # date when simulation starts, i.e. time == 0\n",
    "assert len(data_path) > 0, \"Set data path!\""
   ]
  },
  {
   "cell_type": "code",
   "execution_count": null,
   "metadata": {},
   "outputs": [],
   "source": [
    "%matplotlib inline"
   ]
  },
  {
   "cell_type": "code",
   "execution_count": null,
   "metadata": {},
   "outputs": [],
   "source": [
    "from adapter_covid19.simulator import *\n",
    "from adapter_covid19.scenarios import *\n",
    "from adapter_covid19.metrics import *"
   ]
  },
  {
   "cell_type": "code",
   "execution_count": null,
   "metadata": {},
   "outputs": [],
   "source": [
    "import matplotlib\n",
    "matplotlib.rc('font', size=18)"
   ]
  },
  {
   "cell_type": "markdown",
   "metadata": {},
   "source": [
    "# Multiple Scenarios"
   ]
  },
  {
   "cell_type": "code",
   "execution_count": null,
   "metadata": {},
   "outputs": [],
   "source": [
    "scenario_files = [\n",
    "    os.path.join(data_path,f\"{x}.pkl\")\n",
    "    for x in [\n",
    "        'scenario_no_lockdown', 'scenario_basic', 'scenario_slow_unlock', 'scenario_slow_unlock_constrained'\n",
    "    ]]"
   ]
  },
  {
   "cell_type": "code",
   "execution_count": null,
   "metadata": {},
   "outputs": [],
   "source": [
    "summary_dfs = {}"
   ]
  },
  {
   "cell_type": "code",
   "execution_count": null,
   "metadata": {},
   "outputs": [],
   "source": [
    "def load_scenario(scenario_file):\n",
    "    global summary_dfs\n",
    "    try:\n",
    "        with open(scenario_file,\"rb\") as f:\n",
    "            name,scenario,(econ,states) = pickle.load(f)\n",
    "        summary_dfs[name] = summarize_one_scenario(econ,states,end_time=scenario.simulation_end_time,start_date=start_date)\n",
    "        del states\n",
    "    except:\n",
    "        print(f\"error loading {scenario_file}\")"
   ]
  },
  {
   "cell_type": "code",
   "execution_count": null,
   "metadata": {},
   "outputs": [],
   "source": [
    "for scenario_file in tqdm(scenario_files):\n",
    "    load_scenario(scenario_file)"
   ]
  },
  {
   "cell_type": "code",
   "execution_count": null,
   "metadata": {},
   "outputs": [],
   "source": [
    "metrics_scenarios(summary_dfs)"
   ]
  },
  {
   "cell_type": "code",
   "execution_count": null,
   "metadata": {},
   "outputs": [],
   "source": [
    "plot_scenarios(summary_dfs,end_time=202)"
   ]
  }
 ],
 "metadata": {
  "kernelspec": {
   "display_name": "arun",
   "language": "python",
   "name": "arun"
  },
  "language_info": {
   "codemirror_mode": {
    "name": "ipython",
    "version": 3
   },
   "file_extension": ".py",
   "mimetype": "text/x-python",
   "name": "python",
   "nbconvert_exporter": "python",
   "pygments_lexer": "ipython3",
   "version": "3.7.6"
  },
  "pycharm": {
   "stem_cell": {
    "cell_type": "raw",
    "metadata": {
     "collapsed": false
    },
    "source": []
   }
  }
 },
 "nbformat": 4,
 "nbformat_minor": 4
}
