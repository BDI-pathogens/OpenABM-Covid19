{
 "cells": [
  {
   "cell_type": "markdown",
   "metadata": {},
   "source": [
    "# OpenABM-Covid19 - Example 102 - Lockdown and Contract-Tracing\n",
    "\n",
    "This second example runs the simulation until 1% of the population has been infected. At which point a lockdown is imposed for 30 days. After which a number of other internventions are implemented such as digital contract-tracing."
   ]
  },
  {
   "cell_type": "code",
   "execution_count": 15,
   "metadata": {},
   "outputs": [],
   "source": [
    "import example_utils as utils\n",
    "params = utils.get_baseline_parameters()\n",
    "params.set_param( \"n_total\", 50000 )"
   ]
  },
  {
   "cell_type": "markdown",
   "metadata": {},
   "source": [
    "The next step is to get the simulation until 500 people have been infected"
   ]
  },
  {
   "cell_type": "code",
   "execution_count": 16,
   "metadata": {},
   "outputs": [],
   "source": [
    "sim = utils.get_simulation( params )\n",
    "sim.steps(1)\n",
    "while sim.results[\"total_infected\"][ -1] < 500:\n",
    "    sim.steps(1)"
   ]
  },
  {
   "cell_type": "markdown",
   "metadata": {},
   "source": [
    "Now turn on a lockdown and continue for 30 days."
   ]
  },
  {
   "cell_type": "code",
   "execution_count": 18,
   "metadata": {},
   "outputs": [],
   "source": [
    "sim.env.model.update_running_params(\"lockdown_on\", 1)\n",
    "sim.steps( 30 )"
   ]
  },
  {
   "cell_type": "markdown",
   "metadata": {},
   "source": [
    "Now turn off the lockdown and turn on digitial contract tracing, with the following options.\n",
    "1. 80% of people self-quarantine along with their household when they develop symptoms.\n",
    "2. Tracing happens as soon as somebody devleops symptoms and contacts quarantine themselves.\n",
    "3. The households members of those traced also quarantine\n",
    "\n",
    "We then run the simimulation for another 100 days."
   ]
  },
  {
   "cell_type": "code",
   "execution_count": 13,
   "metadata": {},
   "outputs": [],
   "source": [
    "# lockdown off\n",
    "sim.env.model.update_running_params(\"lockdown_on\", 0)\n",
    "\n",
    "# 80% self-quarantine along with their households\n",
    "sim.env.model.update_running_params(\"self_quarantine_fraction\", 0.8 )\n",
    "sim.env.model.update_running_params(\"quarantine_household_on_symptoms\", 1 )\n",
    "  \n",
    "# turn on the app and quarantine those people who have been traced along with their households\n",
    "sim.env.model.update_running_params(\"app_turned_on\", 1 )\n",
    "sim.env.model.update_running_params(\"quarantine_on_traced\", 1 )\n",
    "sim.env.model.update_running_params(\"trace_on_symptoms\", 1 )\n",
    "sim.env.model.update_running_params(\"quarantine_household_on_traced_symptoms\", 1 )\n",
    "\n",
    "# step forwrard another 100 days\n",
    "sim.steps( 100 )"
   ]
  },
  {
   "cell_type": "markdown",
   "metadata": {
    "hide_input": false
   },
   "source": [
    "Finally plot the result."
   ]
  },
  {
   "cell_type": "code",
   "execution_count": 14,
   "metadata": {},
   "outputs": [
    {
     "data": {
      "text/plain": [
       "<matplotlib.axes._subplots.AxesSubplot at 0x149cac550>"
      ]
     },
     "execution_count": 14,
     "metadata": {},
     "output_type": "execute_result"
    },
    {
     "data": {
      "image/png": "[encoded data removed]",
      "text/plain": [
       "<Figure size 432x288 with 1 Axes>"
      ]
     },
     "metadata": {
      "needs_background": "light"
     },
     "output_type": "display_data"
    }
   ],
   "source": [
    "import pandas as pd\n",
    "timeseries = pd.DataFrame( sim.results )\n",
    "timeseries.plot( x = \"time\", y = \"total_infected\" )"
   ]
  }
 ],
 "metadata": {
  "kernelspec": {
   "display_name": "Python 3",
   "language": "python",
   "name": "python3"
  },
  "language_info": {
   "codemirror_mode": {
    "name": "ipython",
    "version": 3
   },
   "file_extension": ".py",
   "mimetype": "text/x-python",
   "name": "python",
   "nbconvert_exporter": "python",
   "pygments_lexer": "ipython3",
   "version": "3.7.7"
  }
 },
 "nbformat": 4,
 "nbformat_minor": 4
}
