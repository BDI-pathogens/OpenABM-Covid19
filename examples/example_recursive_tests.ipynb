{
 "cells": [
  {
   "cell_type": "markdown",
   "metadata": {},
   "source": [
    "# OpenABM-Covid19 - Recursive Testing\n",
    "\n",
    "This examples compares contact tracing with and without recursive testing."
   ]
  },
  {
   "cell_type": "code",
   "execution_count": null,
   "metadata": {},
   "outputs": [],
   "source": [
    "import example_utils as utils\n",
    "import pandas as pd\n",
    "from math import exp\n",
    "\n",
    "n_total = 1e5\n",
    "frac_lockdown = 0.02\n",
    "days_lockdown = 60\n",
    "frac_app_users = 0.75\n",
    "social_distance_factor = 0.70"
   ]
  },
  {
   "cell_type": "markdown",
   "metadata": {},
   "source": [
    "Run the model until `frac_lockdown` of the population are infected."
   ]
  },
  {
   "cell_type": "code",
   "execution_count": null,
   "metadata": {},
   "outputs": [],
   "source": [
    "params = utils.get_baseline_parameters()\n",
    "params.set_param( \"n_total\", n_total )\n",
    "params.set_param( \"test_insensitive_period\", 3 )\n",
    "params.set_param( \"test_sensitivity\", 0.8 )\n",
    "params.set_param( \"test_specificity\", 0.99)\n",
    "params.set_param( \"test_release_on_negative\", 1)\n",
    "\n",
    "app_users_param = [ \"app_users_fraction_0_9\", \"app_users_fraction_10_19\",  \"app_users_fraction_20_29\",  \n",
    "        \"app_users_fraction_30_39\",  \"app_users_fraction_40_49\", \"app_users_fraction_50_59\",    \n",
    "        \"app_users_fraction_60_69\",  \"app_users_fraction_70_79\", \"app_users_fraction_80\" ]\n",
    "\n",
    "for age in range(len(app_users_param)):\n",
    "    params.set_param( app_users_param[age], params.get_param(app_users_param[age])*frac_app_users)\n",
    "\n",
    "sim = utils.get_simulation( params )\n",
    "sim.steps(1)\n",
    "time_lockdown = 0\n",
    "while sim.results[\"total_infected\"][ -1] < frac_lockdown * n_total:\n",
    "    time_lockdown = time_lockdown + 1\n",
    "    sim.steps(1)"
   ]
  },
  {
   "cell_type": "markdown",
   "metadata": {},
   "source": [
    "Now turn on a lockdown and continue for `days_lockdown` days."
   ]
  },
  {
   "cell_type": "code",
   "execution_count": null,
   "metadata": {},
   "outputs": [],
   "source": [
    "sim.env.model.update_running_params(\"self_quarantine_fraction\", 0.5 )\n",
    "sim.env.model.update_running_params(\"quarantine_household_on_symptoms\", 1 )\n",
    "sim.env.model.update_running_params(\"lockdown_on\", 1)\n",
    "sim.steps( days_lockdown )"
   ]
  },
  {
   "cell_type": "markdown",
   "metadata": {},
   "source": [
    "Now turn off the lockdown and turn on digitial contract tracing, with the following options.\n",
    "1. 80% of people self-quarantine along with their household when they develop symptoms.\n",
    "2. Tracing happens on a positive test\n",
    "3. The households members of those traced also quarantine\n",
    "\n",
    "We then run the simimulation for another 100 days."
   ]
  },
  {
   "cell_type": "code",
   "execution_count": null,
   "metadata": {},
   "outputs": [],
   "source": [
    "# lockdown off\n",
    "sim.env.model.update_running_params(\"lockdown_on\", 0)\n",
    "\n",
    "# 80% self-quarantine along with their households\n",
    "sim.env.model.update_running_params(\"self_quarantine_fraction\", 0.8 )\n",
    "sim.env.model.update_running_params(\"quarantine_household_on_symptoms\", 1 )\n",
    "  \n",
    "# turn on the app and quarantine those people who have been traced along with their households\n",
    "sim.env.model.update_running_params(\"app_turned_on\", 1 )\n",
    "sim.env.model.update_running_params(\"quarantine_on_traced\", 1 )\n",
    "sim.env.model.update_running_params(\"trace_on_positive\", 1 )\n",
    "sim.env.model.update_running_params(\"trace_on_symptoms\", 1 )\n",
    "sim.env.model.update_running_params(\"test_on_symptoms\", 1 )\n",
    "sim.env.model.update_running_params(\"test_on_traced\", 1 )\n",
    "sim.env.model.update_running_params(\"test_result_wait\", 1 )\n",
    "sim.env.model.update_running_params(\"test_order_wait\", 1 )\n",
    "sim.env.model.update_running_params(\"test_release_on_negative\", 0 )\n",
    "\n",
    "sim.env.model.update_running_params(\"quarantine_household_on_traced_positive\", 1 )\n",
    "\n",
    "# add risk scoring\n",
    "risk_sd = 3.5\n",
    "for day in range( 10 ):\n",
    "    for age_inf in range( 9 ):\n",
    "        for age_sus in range( 9 ):\n",
    "            sim.env.model.set_risk_score( day, age_inf, age_sus, exp( 0.5 * ( 1 - day*day / risk_sd/risk_sd ) ) )\n",
    "     \n",
    "# apply social distancing measures\n",
    "sim.env.model.update_running_params(\"relative_transmission_occupation\", social_distance_factor )\n",
    "sim.env.model.update_running_params(\"relative_transmission_random\", social_distance_factor )\n",
    "\n",
    "# step forwrard another 100 days\n",
    "weekly_prev = 1e-3\n",
    "time = 0\n",
    "while time < 100:\n",
    "    time = time+1\n",
    "    sim.steps(1)\n",
    "    if pd.DataFrame( sim.results )[\"total_infected\"].diff(7).iloc[-1] < n_total * weekly_prev:\n",
    "        sim.env.model.update_running_params(\"test_release_on_negative\", 1 )\n",
    "    else :\n",
    "        sim.env.model.update_running_params(\"test_release_on_negative\", 0 )\n"
   ]
  },
  {
   "cell_type": "markdown",
   "metadata": {
    "hide_input": false
   },
   "source": [
    "Finally plot the result."
   ]
  },
  {
   "cell_type": "code",
   "execution_count": null,
   "metadata": {},
   "outputs": [],
   "source": [
    "timeseries = pd.DataFrame( sim.results )\n",
    "timeseries[\"incidence\"] = timeseries[\"total_infected\"].diff()\n",
    "timeseries.plot( x = \"time\", y = \"total_infected\" )\n",
    "timeseries.plot( x = \"time\", y = \"incidence\" )\n",
    "timeseries.plot( x = \"time\", y = \"n_quarantine\" )"
   ]
  },
  {
   "cell_type": "code",
   "execution_count": null,
   "metadata": {},
   "outputs": [],
   "source": [
    "del( sim )"
   ]
  }
 ],
 "metadata": {
  "kernelspec": {
   "display_name": "Python 3",
   "language": "python",
   "name": "python3"
  },
  "language_info": {
   "codemirror_mode": {
    "name": "ipython",
    "version": 3
   },
   "file_extension": ".py",
   "mimetype": "text/x-python",
   "name": "python",
   "nbconvert_exporter": "python",
   "pygments_lexer": "ipython3",
   "version": "3.7.7"
  }
 },
 "nbformat": 4,
 "nbformat_minor": 4
}
