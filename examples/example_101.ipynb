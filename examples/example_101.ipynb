{
 "cells": [
  {
   "cell_type": "markdown",
   "metadata": {},
   "source": [
    "# OpenABM-Covid19 - Example 101\n",
    "\n",
    "This shows a very simple example of getting the model, changing some parameters and then running the simulation.\n",
    "\n",
    "The first step is to get the baseline parameters. We then reduce the size of the population to 10,000 people so that the simulation will run quickly in this example."
   ]
  },
  {
   "cell_type": "code",
   "execution_count": 1,
   "metadata": {},
   "outputs": [],
   "source": [
    "import example_utils as utils\n",
    "params = utils.get_baseline_parameters()\n",
    "params.set_param( \"n_total\", 10000 )"
   ]
  },
  {
   "cell_type": "markdown",
   "metadata": {},
   "source": [
    "The next step is to get the simulation and then to run it for 10 days"
   ]
  },
  {
   "cell_type": "code",
   "execution_count": 2,
   "metadata": {},
   "outputs": [],
   "source": [
    "sim = utils.get_simulation( params )\n",
    "sim.steps( 10 )"
   ]
  },
  {
   "cell_type": "markdown",
   "metadata": {},
   "source": [
    "We can now look at the time-series of the number of people of people infected."
   ]
  },
  {
   "cell_type": "code",
   "execution_count": 3,
   "metadata": {},
   "outputs": [
    {
     "name": "stdout",
     "output_type": "stream",
     "text": [
      "   time  total_infected\n",
      "0     1               5\n",
      "1     2               5\n",
      "2     3               7\n",
      "3     4               9\n",
      "4     5               9\n",
      "5     6              11\n",
      "6     7              13\n",
      "7     8              15\n",
      "8     9              18\n",
      "9    10              22\n"
     ]
    }
   ],
   "source": [
    "import pandas as pd\n",
    "timeseries = pd.DataFrame( sim.results )\n",
    "print( timeseries.loc[:,{\"time\",\"total_infected\"}])"
   ]
  },
  {
   "cell_type": "markdown",
   "metadata": {},
   "source": [
    "The model can now be run for a further 100 days and the plot the time-sereies of the total number of people infected."
   ]
  },
  {
   "cell_type": "code",
   "execution_count": 4,
   "metadata": {},
   "outputs": [
    {
     "data": {
      "text/plain": [
       "<matplotlib.axes._subplots.AxesSubplot at 0x1227bf710>"
      ]
     },
     "execution_count": 4,
     "metadata": {},
     "output_type": "execute_result"
    },
    {
     "data": {
      "image/png": "[encoded data removed]",
      "text/plain": [
       "<Figure size 432x288 with 1 Axes>"
      ]
     },
     "metadata": {
      "needs_background": "light"
     },
     "output_type": "display_data"
    }
   ],
   "source": [
    "sim.steps( 100 )\n",
    "timeseries = pd.DataFrame( sim.results )\n",
    "timeseries.plot( x = \"time\", y = \"total_infected\" )"
   ]
  }
 ],
 "metadata": {
  "kernelspec": {
   "display_name": "Python 3",
   "language": "python",
   "name": "python3"
  },
  "language_info": {
   "codemirror_mode": {
    "name": "ipython",
    "version": 3
   },
   "file_extension": ".py",
   "mimetype": "text/x-python",
   "name": "python",
   "nbconvert_exporter": "python",
   "pygments_lexer": "ipython3",
   "version": "3.7.7"
  }
 },
 "nbformat": 4,
 "nbformat_minor": 4
}
