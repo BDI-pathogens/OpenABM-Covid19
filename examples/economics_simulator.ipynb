{
 "cells": [
  {
   "cell_type": "markdown",
   "metadata": {},
   "source": [
    "Prep"
   ]
  },
  {
   "cell_type": "code",
   "execution_count": null,
   "metadata": {},
   "outputs": [],
   "source": [
    "import functools\n",
    "import itertools\n",
    "import multiprocessing\n",
    "import os\n",
    "from typing import Mapping\n",
    "\n",
    "%matplotlib inline\n",
    "import matplotlib.pyplot as plt\n",
    "import numpy as np\n",
    "import pickle\n",
    "\n",
    "import pandas as pd\n",
    "pd.set_option('display.max_rows', 200)\n",
    "\n",
    "from tqdm import tqdm\n",
    "import getpass\n",
    "import logging\n",
    "\n",
    "logging.basicConfig(level=logging.ERROR)"
   ]
  },
  {
   "cell_type": "code",
   "execution_count": null,
   "metadata": {},
   "outputs": [],
   "source": [
    "import adapter_covid19\n",
    "from adapter_covid19.data_structures import Scenario, ModelParams\n",
    "from adapter_covid19.simulator import Simulator\n",
    "from adapter_covid19.enums import Age10Y, Region\n",
    "from adapter_covid19.lockdown import get_lockdown_factor, get_working_factor\n",
    "from COVID19.model import Parameters, OccupationNetworkEnum"
   ]
  },
  {
   "cell_type": "markdown",
   "metadata": {},
   "source": [
    "Initialize simulator"
   ]
  },
  {
   "cell_type": "code",
   "execution_count": null,
   "metadata": {},
   "outputs": [],
   "source": [
    "data_path = os.path.join(adapter_covid19.__path__[0], '../../tests/adapter_covid19/data')\n",
    "\n",
    "simulator = Simulator(data_path)"
   ]
  },
  {
   "cell_type": "markdown",
   "metadata": {},
   "source": [
    "Inialize scenarios"
   ]
  },
  {
   "cell_type": "code",
   "execution_count": null,
   "metadata": {},
   "outputs": [],
   "source": [
    "LOCKDOWN_PARAMETERS = {\n",
    "    \"quarantine_household_on_positive\": 1,\n",
    "    \"quarantine_household_on_symptoms\": 1,\n",
    "    \"self_quarantine_fraction\": 0.8,\n",
    "}"
   ]
  },
  {
   "cell_type": "markdown",
   "metadata": {},
   "source": [
    "Run spread model once"
   ]
  },
  {
   "cell_type": "code",
   "execution_count": null,
   "metadata": {},
   "outputs": [],
   "source": [
    "import example_utils as utils\n",
    "\n",
    "def set_occupation_params(params: Parameters, model, value: float):\n",
    "    occupation_params = {\n",
    "        f'lockdown_occupation_multiplier{on.name}': params.get_param(f'lockdown_occupation_multiplier{on.name}')\n",
    "        for on in OccupationNetworkEnum\n",
    "    }\n",
    "    if not all(np.isclose(v, value) for v in occupation_params.values()):\n",
    "        for on in OccupationNetworkEnum:\n",
    "            model.update_running_params(f'lockdown_occupation_multiplier{on.name}', value)\n",
    "\n",
    "def run_worker(populations: Mapping[Age10Y, int], lockdown_start: int, lockdown_end: int, end: int, slow_unlock: bool, data_path: str):\n",
    "    population = 100_000\n",
    "    params = utils.get_baseline_parameters()\n",
    "    params.set_param( \"n_total\", population )\n",
    "    for k, v in populations.items():\n",
    "        params.set_param(k.value, v)\n",
    "\n",
    "    sim = utils.get_simulation( params )\n",
    "\n",
    "    sim.steps( lockdown_start )\n",
    "\n",
    "    for k, v in LOCKDOWN_PARAMETERS.items():\n",
    "        sim.env.model.update_running_params(k, v)\n",
    "    lockdown_factor = get_lockdown_factor(lockdown=True, slow_unlock=slow_unlock, lockdown_exit_time=0, time=sim.timestep)\n",
    "    occupation_factor = get_working_factor(data_path, lockdown_factor)\n",
    "    set_occupation_params(params, sim.env.model, occupation_factor)\n",
    "        \n",
    "    sim.env.model.update_running_params(\"lockdown_on\", 1)\n",
    "    sim.steps( lockdown_end - lockdown_start)\n",
    "\n",
    "    if not slow_unlock:\n",
    "        sim.env.model.update_running_params(\"lockdown_on\", 0)\n",
    "    while sim.timestep < end:\n",
    "        lockdown_factor = get_lockdown_factor(lockdown=False, slow_unlock=slow_unlock, lockdown_exit_time=lockdown_end, time=sim.timestep)\n",
    "        occupation_factor = get_working_factor(data_path, lockdown_factor)\n",
    "        set_occupation_params(params, sim.env.model, occupation_factor)\n",
    "        sim.steps( min(end - sim.timestep, 10) )\n",
    "\n",
    "    timeseries = pd.DataFrame( sim.results )\n",
    "    ill_ratio = timeseries[\"n_symptoms\"]  / population\n",
    "    dead_ratio = timeseries[\"n_death\"] / population\n",
    "    quarantine_ratio = timeseries[\"n_quarantine\"] / population\n",
    "    data = {'ill_ratio': ill_ratio.to_dict(), 'dead_ratio': dead_ratio.to_dict(), 'quarantine_ratio': quarantine_ratio.to_dict()}\n",
    "    return data\n",
    "    \n",
    "\n",
    "def get_ill_dead_ratio_from_spread_model(\n",
    "    data_folder: str, lockdown_start: int = 0, lockdown_end:int = 0, end: int=50, slow_unlock: bool = False, reload: bool = False\n",
    "):\n",
    "    populations_df = pd.read_csv(os.path.join(data_folder, \"populations.csv\"))\n",
    "    populations_by_region = {\n",
    "        Region[k]: {Age10Y[kk]: vv for kk, vv in v.items()}\n",
    "        for k, v in populations_df.set_index(\"region\").T.to_dict().items()\n",
    "    }\n",
    "    file_name = f'spread_model_cache_{lockdown_start}_{lockdown_end}_{end}_{slow_unlock}.pkl'\n",
    "    file_path = os.path.join(data_folder, file_name)\n",
    "    if not os.path.exists(file_path) or reload:\n",
    "        worker = functools.partial(\n",
    "            run_worker, lockdown_start=lockdown_start, lockdown_end=lockdown_end, end=end, slow_unlock=slow_unlock, data_path=data_folder)\n",
    "        with multiprocessing.Pool() as pool:\n",
    "            data = pool.map(worker, [populations_by_region[r] for r in Region])\n",
    "        keys = data[0].keys()\n",
    "        data = {k: {t: {r: data[i][k][t] for i, r in enumerate(Region)} for t in range(end)} for k in keys}\n",
    "        with open(file_path, 'wb') as f:\n",
    "            pickle.dump(data, f)\n",
    "    else:\n",
    "        with open(file_path, 'rb') as f:\n",
    "            data = pickle.load(f)\n",
    "    total_population_by_region = pd.DataFrame(populations_by_region).sum()\n",
    "    pct_population_by_region = total_population_by_region / total_population_by_region.sum()\n",
    "    seriess = {k: (pd.DataFrame(v).T * pct_population_by_region).sum(axis=1) for k, v in data.items()}\n",
    "    df = pd.concat(seriess, axis=1)\n",
    "    return data, df"
   ]
  },
  {
   "cell_type": "code",
   "execution_count": null,
   "metadata": {},
   "outputs": [],
   "source": [
    "_data, _df = get_ill_dead_ratio_from_spread_model(data_path, 0, 0, 203, slow_unlock=False)\n",
    "_df.plot(subplots=True, figsize=(12, 12))\n",
    "ill_ratio_no_lockdown, dead_ratio_no_lockdown, quarantine_ratio_no_lockdown = _data['ill_ratio'], _data['dead_ratio'], _data['quarantine_ratio']"
   ]
  },
  {
   "cell_type": "code",
   "execution_count": null,
   "metadata": {},
   "outputs": [],
   "source": [
    "_data, _df = get_ill_dead_ratio_from_spread_model(data_path, 10, 59, 203, slow_unlock=False)\n",
    "_df.plot(subplots=True, figsize=(12, 12))\n",
    "ill_ratio_with_lockdown, dead_ratio_with_lockdown, quarantine_ratio_with_lockdown = _data['ill_ratio'], _data['dead_ratio'], _data['quarantine_ratio']"
   ]
  },
  {
   "cell_type": "code",
   "execution_count": null,
   "metadata": {},
   "outputs": [],
   "source": [
    "_data, _df = get_ill_dead_ratio_from_spread_model(data_path, 10, 59, 203, slow_unlock=True)\n",
    "_df.plot(subplots=True, figsize=(12, 12))\n",
    "ill_ratio_with_slow_lockdown, dead_ratio_with_slow_lockdown, quarantine_ratio_with_slow_lockdown = _data['ill_ratio'], _data['dead_ratio'], _data['quarantine_ratio']"
   ]
  }
 ],
 "metadata": {
  "kernelspec": {
   "display_name": "arun",
   "language": "python",
   "name": "arun"
  },
  "language_info": {
   "codemirror_mode": {
    "name": "ipython",
    "version": 3
   },
   "file_extension": ".py",
   "mimetype": "text/x-python",
   "name": "python",
   "nbconvert_exporter": "python",
   "pygments_lexer": "ipython3",
   "version": "3.7.6"
  }
 },
 "nbformat": 4,
 "nbformat_minor": 4
}
